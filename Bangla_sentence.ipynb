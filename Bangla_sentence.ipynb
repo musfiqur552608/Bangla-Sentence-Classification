{
  "nbformat": 4,
  "nbformat_minor": 0,
  "metadata": {
    "colab": {
      "name": "Bangla sentence.ipynb",
      "provenance": [],
      "collapsed_sections": [],
      "authorship_tag": "ABX9TyNNF07KJIqAZt+BsSDE8QpD",
      "include_colab_link": true
    },
    "kernelspec": {
      "name": "python3",
      "display_name": "Python 3"
    }
  },
  "cells": [
    {
      "cell_type": "markdown",
      "metadata": {
        "id": "view-in-github",
        "colab_type": "text"
      },
      "source": [
        "<a href=\"https://colab.research.google.com/github/musfiqur552608/Bangla-Sentence-Classification/blob/master/Bangla_sentence.ipynb\" target=\"_parent\"><img src=\"https://colab.research.google.com/assets/colab-badge.svg\" alt=\"Open In Colab\"/></a>"
      ]
    },
    {
      "cell_type": "markdown",
      "metadata": {
        "id": "PwU33xqh3BWG"
      },
      "source": [
        "## Connect to google drive"
      ]
    },
    {
      "cell_type": "code",
      "metadata": {
        "colab": {
          "base_uri": "https://localhost:8080/"
        },
        "id": "szaAwXbb2lvc",
        "outputId": "a8d2355f-deff-4b4e-bc8f-a44de879519e"
      },
      "source": [
        "from  google.colab import drive\n",
        "drive.mount('/content/gdrive')"
      ],
      "execution_count": null,
      "outputs": [
        {
          "output_type": "stream",
          "name": "stdout",
          "text": [
            "Drive already mounted at /content/gdrive; to attempt to forcibly remount, call drive.mount(\"/content/gdrive\", force_remount=True).\n"
          ]
        }
      ]
    },
    {
      "cell_type": "markdown",
      "metadata": {
        "id": "V1PPoXge4QyW"
      },
      "source": [
        "## Data Checking"
      ]
    },
    {
      "cell_type": "code",
      "metadata": {
        "colab": {
          "base_uri": "https://localhost:8080/",
          "height": 363
        },
        "id": "o5HtpRp74KSc",
        "outputId": "2947c22c-8046-4b64-f5e6-85f3f17f1b58"
      },
      "source": [
        "df.head(10)"
      ],
      "execution_count": null,
      "outputs": [
        {
          "output_type": "execute_result",
          "data": {
            "text/html": [
              "<div>\n",
              "<style scoped>\n",
              "    .dataframe tbody tr th:only-of-type {\n",
              "        vertical-align: middle;\n",
              "    }\n",
              "\n",
              "    .dataframe tbody tr th {\n",
              "        vertical-align: top;\n",
              "    }\n",
              "\n",
              "    .dataframe thead th {\n",
              "        text-align: right;\n",
              "    }\n",
              "</style>\n",
              "<table border=\"1\" class=\"dataframe\">\n",
              "  <thead>\n",
              "    <tr style=\"text-align: right;\">\n",
              "      <th></th>\n",
              "      <th>Context</th>\n",
              "      <th>Context_name</th>\n",
              "      <th>Class</th>\n",
              "    </tr>\n",
              "  </thead>\n",
              "  <tbody>\n",
              "    <tr>\n",
              "      <th>0</th>\n",
              "      <td>তোমার নাম কি?</td>\n",
              "      <td>প্রশ্নবোধক বাক্য</td>\n",
              "      <td>0</td>\n",
              "    </tr>\n",
              "    <tr>\n",
              "      <th>1</th>\n",
              "      <td>তুমি কোথায় থাকো?</td>\n",
              "      <td>প্রশ্নবোধক বাক্য</td>\n",
              "      <td>0</td>\n",
              "    </tr>\n",
              "    <tr>\n",
              "      <th>2</th>\n",
              "      <td>তোমার বাবার নাম কি?</td>\n",
              "      <td>প্রশ্নবোধক বাক্য</td>\n",
              "      <td>0</td>\n",
              "    </tr>\n",
              "    <tr>\n",
              "      <th>3</th>\n",
              "      <td>তোমার মায়ের নাম কি?</td>\n",
              "      <td>প্রশ্নবোধক বাক্য</td>\n",
              "      <td>0</td>\n",
              "    </tr>\n",
              "    <tr>\n",
              "      <th>4</th>\n",
              "      <td>তোমরা কয় ভাই-বোন?</td>\n",
              "      <td>প্রশ্নবোধক বাক্য</td>\n",
              "      <td>0</td>\n",
              "    </tr>\n",
              "    <tr>\n",
              "      <th>5</th>\n",
              "      <td>তুমি কোন শ্রেণিতে পড়?</td>\n",
              "      <td>প্রশ্নবোধক বাক্য</td>\n",
              "      <td>0</td>\n",
              "    </tr>\n",
              "    <tr>\n",
              "      <th>6</th>\n",
              "      <td>কোনটি সবচেয়ে প্রাচীন সভ্যতা?</td>\n",
              "      <td>প্রশ্নবোধক বাক্য</td>\n",
              "      <td>0</td>\n",
              "    </tr>\n",
              "    <tr>\n",
              "      <th>7</th>\n",
              "      <td>ইতিহাসের প্রথম লিখিত আইন প্রণেতা কে?</td>\n",
              "      <td>প্রশ্নবোধক বাক্য</td>\n",
              "      <td>0</td>\n",
              "    </tr>\n",
              "    <tr>\n",
              "      <th>8</th>\n",
              "      <td>পৃথিবীর কোথায় প্রথম লিখিত আইনের প্রচলন হয়?</td>\n",
              "      <td>প্রশ্নবোধক বাক্য</td>\n",
              "      <td>0</td>\n",
              "    </tr>\n",
              "    <tr>\n",
              "      <th>9</th>\n",
              "      <td>সুমেরির সভ্যতা কোথায় গড়ে উঠেছিল?</td>\n",
              "      <td>প্রশ্নবোধক বাক্য</td>\n",
              "      <td>0</td>\n",
              "    </tr>\n",
              "  </tbody>\n",
              "</table>\n",
              "</div>"
            ],
            "text/plain": [
              "                                      Context      Context_name  Class\n",
              "0                               তোমার নাম কি?  প্রশ্নবোধক বাক্য      0\n",
              "1                            তুমি কোথায় থাকো?  প্রশ্নবোধক বাক্য      0\n",
              "2                         তোমার বাবার নাম কি?  প্রশ্নবোধক বাক্য      0\n",
              "3                         তোমার মায়ের নাম কি?  প্রশ্নবোধক বাক্য      0\n",
              "4                           তোমরা কয় ভাই-বোন?  প্রশ্নবোধক বাক্য      0\n",
              "5                       তুমি কোন শ্রেণিতে পড়?  প্রশ্নবোধক বাক্য      0\n",
              "6                কোনটি সবচেয়ে প্রাচীন সভ্যতা?  প্রশ্নবোধক বাক্য      0\n",
              "7        ইতিহাসের প্রথম লিখিত আইন প্রণেতা কে?  প্রশ্নবোধক বাক্য      0\n",
              "8  পৃথিবীর কোথায় প্রথম লিখিত আইনের প্রচলন হয়?  প্রশ্নবোধক বাক্য      0\n",
              "9            সুমেরির সভ্যতা কোথায় গড়ে উঠেছিল?  প্রশ্নবোধক বাক্য      0"
            ]
          },
          "metadata": {},
          "execution_count": 6
        }
      ]
    },
    {
      "cell_type": "code",
      "metadata": {
        "colab": {
          "base_uri": "https://localhost:8080/",
          "height": 363
        },
        "id": "AWzmIulp4ONd",
        "outputId": "f084f06b-04ee-48f1-a365-e5df80a09b9a"
      },
      "source": [
        "df.tail(10)"
      ],
      "execution_count": null,
      "outputs": [
        {
          "output_type": "execute_result",
          "data": {
            "text/html": [
              "<div>\n",
              "<style scoped>\n",
              "    .dataframe tbody tr th:only-of-type {\n",
              "        vertical-align: middle;\n",
              "    }\n",
              "\n",
              "    .dataframe tbody tr th {\n",
              "        vertical-align: top;\n",
              "    }\n",
              "\n",
              "    .dataframe thead th {\n",
              "        text-align: right;\n",
              "    }\n",
              "</style>\n",
              "<table border=\"1\" class=\"dataframe\">\n",
              "  <thead>\n",
              "    <tr style=\"text-align: right;\">\n",
              "      <th></th>\n",
              "      <th>Context</th>\n",
              "      <th>Context_name</th>\n",
              "      <th>Class</th>\n",
              "    </tr>\n",
              "  </thead>\n",
              "  <tbody>\n",
              "    <tr>\n",
              "      <th>8990</th>\n",
              "      <td>ইগুরাজু জলপ্রপাতের উচ্চতা কত?</td>\n",
              "      <td>প্রশ্নবোধক বাক্য</td>\n",
              "      <td>0</td>\n",
              "    </tr>\n",
              "    <tr>\n",
              "      <th>8991</th>\n",
              "      <td>ইগুরাজু জলপ্রপাত কোথায় অবস্থিত?</td>\n",
              "      <td>প্রশ্নবোধক বাক্য</td>\n",
              "      <td>0</td>\n",
              "    </tr>\n",
              "    <tr>\n",
              "      <th>8992</th>\n",
              "      <td>প্যাট্রিস ম্যারিবন্দো জলপ্রপাত থেকে গড়ে কী পরি...</td>\n",
              "      <td>প্রশ্নবোধক বাক্য</td>\n",
              "      <td>0</td>\n",
              "    </tr>\n",
              "    <tr>\n",
              "      <th>8993</th>\n",
              "      <td>প্যাট্রিস ম্যারিবন্দো জলপ্রপাতের উচ্চতা কত?</td>\n",
              "      <td>প্রশ্নবোধক বাক্য</td>\n",
              "      <td>0</td>\n",
              "    </tr>\n",
              "    <tr>\n",
              "      <th>8994</th>\n",
              "      <td>প্যাট্রিস ম্যারিবন্দো জলপ্রপাত কোথায় অবস্থিত?</td>\n",
              "      <td>প্রশ্নবোধক বাক্য</td>\n",
              "      <td>0</td>\n",
              "    </tr>\n",
              "    <tr>\n",
              "      <th>8995</th>\n",
              "      <td>কিং অষ্টম অ্যাডওয়ার্ড জলপ্রপাতের উচ্চতা কত?</td>\n",
              "      <td>প্রশ্নবোধক বাক্য</td>\n",
              "      <td>0</td>\n",
              "    </tr>\n",
              "    <tr>\n",
              "      <th>8996</th>\n",
              "      <td>কিং অষ্টম অ্যাডওয়ার্ড জলপ্রপাত কোথায় অবস্থিত?</td>\n",
              "      <td>প্রশ্নবোধক বাক্য</td>\n",
              "      <td>0</td>\n",
              "    </tr>\n",
              "    <tr>\n",
              "      <th>8997</th>\n",
              "      <td>সুদারল্যান্ড জলপ্রপাত কোথায় অবস্থিত?</td>\n",
              "      <td>প্রশ্নবোধক বাক্য</td>\n",
              "      <td>0</td>\n",
              "    </tr>\n",
              "    <tr>\n",
              "      <th>8998</th>\n",
              "      <td>ভিক্টোরিয়া জলপ্রপাতের অবস্থান কোথায়?</td>\n",
              "      <td>প্রশ্নবোধক বাক্য</td>\n",
              "      <td>0</td>\n",
              "    </tr>\n",
              "    <tr>\n",
              "      <th>8999</th>\n",
              "      <td>আপার ইয়োসেমাইট জলপ্রপাত কোথায় অবস্থিত?</td>\n",
              "      <td>প্রশ্নবোধক বাক্য</td>\n",
              "      <td>0</td>\n",
              "    </tr>\n",
              "  </tbody>\n",
              "</table>\n",
              "</div>"
            ],
            "text/plain": [
              "                                                Context  ... Class\n",
              "8990                      ইগুরাজু জলপ্রপাতের উচ্চতা কত?  ...     0\n",
              "8991                    ইগুরাজু জলপ্রপাত কোথায় অবস্থিত?  ...     0\n",
              "8992  প্যাট্রিস ম্যারিবন্দো জলপ্রপাত থেকে গড়ে কী পরি...  ...     0\n",
              "8993        প্যাট্রিস ম্যারিবন্দো জলপ্রপাতের উচ্চতা কত?  ...     0\n",
              "8994      প্যাট্রিস ম্যারিবন্দো জলপ্রপাত কোথায় অবস্থিত?  ...     0\n",
              "8995        কিং অষ্টম অ্যাডওয়ার্ড জলপ্রপাতের উচ্চতা কত?  ...     0\n",
              "8996      কিং অষ্টম অ্যাডওয়ার্ড জলপ্রপাত কোথায় অবস্থিত?  ...     0\n",
              "8997               সুদারল্যান্ড জলপ্রপাত কোথায় অবস্থিত?  ...     0\n",
              "8998               ভিক্টোরিয়া জলপ্রপাতের অবস্থান কোথায়?  ...     0\n",
              "8999             আপার ইয়োসেমাইট জলপ্রপাত কোথায় অবস্থিত?  ...     0\n",
              "\n",
              "[10 rows x 3 columns]"
            ]
          },
          "metadata": {},
          "execution_count": 7
        }
      ]
    },
    {
      "cell_type": "code",
      "metadata": {
        "colab": {
          "base_uri": "https://localhost:8080/"
        },
        "id": "_Y92Wocb4Ynd",
        "outputId": "f0027d2f-3c40-45df-ce37-90d387dae43f"
      },
      "source": [
        "df.isnull().sum()"
      ],
      "execution_count": null,
      "outputs": [
        {
          "output_type": "execute_result",
          "data": {
            "text/plain": [
              "Context         0\n",
              "Context_name    0\n",
              "Class           0\n",
              "dtype: int64"
            ]
          },
          "metadata": {},
          "execution_count": 8
        }
      ]
    },
    {
      "cell_type": "code",
      "metadata": {
        "colab": {
          "base_uri": "https://localhost:8080/"
        },
        "id": "58saPoDy4i78",
        "outputId": "00fd256b-ed7f-456f-ef58-76b6c121238e"
      },
      "source": [
        "df['Context'].value_counts()"
      ],
      "execution_count": null,
      "outputs": [
        {
          "output_type": "execute_result",
          "data": {
            "text/plain": [
              "প্রতিটি দরপত্রেই এমন কিছু শর্ত জুড়ে দেওয়া হয়, যার ফলে সিএনএস ছাড়া অন্য কোনো প্রতিষ্ঠানের কাজ পাওয়ার সুযোগ থাকে না।    5\n",
              "বাংলাদেশের স্বাস্থ্য খাত নিয়ে আলোচনা উঠলেই কমিউনিটি ক্লিনিককে বাদ দিয়ে সেই আলোচনা পূর্ণ হয় না।                        4\n",
              "যাই হোক না কেন!                                                                                                       4\n",
              "এসব তোহ গুগল করলেও পারা যায়!                                                                                          4\n",
              "হায়! মানুষের মনে এতো বোকা বোকা প্রশ্ন আসে কিকরে!                                                                      4\n",
              "                                                                                                                     ..\n",
              "পোলিশ স্ট্রাইকার ভাঙলেন কিংবদন্তি জার্ড মুলারের ৪৯ বছরের পুরনো রেকর্ড।                                                1\n",
              "হেলসিংকি কোন দেশের রাজধানী?                                                                                           1\n",
              "বিশ্ববিদ্যালয়ের সভা, সেমিনার, বৈজ্ঞানিক আবিষ্কার সংবাদমাধ্যমে খুব একটা আসে না।                                        1\n",
              "কর্শিকা দ্বীপ কোথায় অবস্থিত?                                                                                         1\n",
              "অভূতপূর্ব বিজয়!                                                                                                       1\n",
              "Name: Context, Length: 8436, dtype: int64"
            ]
          },
          "metadata": {},
          "execution_count": 9
        }
      ]
    },
    {
      "cell_type": "code",
      "metadata": {
        "id": "44GjMAE_5a9l"
      },
      "source": [
        "from sklearn.model_selection import train_test_split\n",
        "from sklearn.preprocessing import LabelEncoder\n",
        "from sklearn.linear_model import LinearRegression, LogisticRegression\n",
        "from sklearn.model_selection import cross_val_score\n",
        "import matplotlib.pyplot as plt\n",
        "import seaborn as sns\n",
        "%matplotlib inline"
      ],
      "execution_count": null,
      "outputs": []
    },
    {
      "cell_type": "code",
      "metadata": {
        "colab": {
          "base_uri": "https://localhost:8080/",
          "height": 283
        },
        "id": "Yh-zFVMG5sw0",
        "outputId": "68b2acb8-707e-441b-95fe-33a5d4aa0b53"
      },
      "source": [
        "df['Class'].plot(kind='hist')"
      ],
      "execution_count": null,
      "outputs": [
        {
          "output_type": "execute_result",
          "data": {
            "text/plain": [
              "<matplotlib.axes._subplots.AxesSubplot at 0x7ff1ee56df10>"
            ]
          },
          "metadata": {},
          "execution_count": 11
        },
        {
          "output_type": "display_data",
          "data": {
            "image/png": "[encoded data removed]",
            "text/plain": [
              "<Figure size 432x288 with 1 Axes>"
            ]
          },
          "metadata": {
            "needs_background": "light"
          }
        }
      ]
    },
    {
      "cell_type": "code",
      "metadata": {
        "colab": {
          "base_uri": "https://localhost:8080/",
          "height": 676
        },
        "id": "pHZeilLd56Pt",
        "outputId": "8adc39cc-1b2a-4dac-9585-27b291dba085"
      },
      "source": [
        "df['Length'] = df['Context'].str.split().apply(len)\n",
        "df.head(20)"
      ],
      "execution_count": null,
      "outputs": [
        {
          "output_type": "execute_result",
          "data": {
            "text/html": [
              "<div>\n",
              "<style scoped>\n",
              "    .dataframe tbody tr th:only-of-type {\n",
              "        vertical-align: middle;\n",
              "    }\n",
              "\n",
              "    .dataframe tbody tr th {\n",
              "        vertical-align: top;\n",
              "    }\n",
              "\n",
              "    .dataframe thead th {\n",
              "        text-align: right;\n",
              "    }\n",
              "</style>\n",
              "<table border=\"1\" class=\"dataframe\">\n",
              "  <thead>\n",
              "    <tr style=\"text-align: right;\">\n",
              "      <th></th>\n",
              "      <th>Context</th>\n",
              "      <th>Context_name</th>\n",
              "      <th>Class</th>\n",
              "      <th>Length</th>\n",
              "    </tr>\n",
              "  </thead>\n",
              "  <tbody>\n",
              "    <tr>\n",
              "      <th>0</th>\n",
              "      <td>তোমার নাম কি?</td>\n",
              "      <td>প্রশ্নবোধক বাক্য</td>\n",
              "      <td>0</td>\n",
              "      <td>3</td>\n",
              "    </tr>\n",
              "    <tr>\n",
              "      <th>1</th>\n",
              "      <td>তুমি কোথায় থাকো?</td>\n",
              "      <td>প্রশ্নবোধক বাক্য</td>\n",
              "      <td>0</td>\n",
              "      <td>3</td>\n",
              "    </tr>\n",
              "    <tr>\n",
              "      <th>2</th>\n",
              "      <td>তোমার বাবার নাম কি?</td>\n",
              "      <td>প্রশ্নবোধক বাক্য</td>\n",
              "      <td>0</td>\n",
              "      <td>4</td>\n",
              "    </tr>\n",
              "    <tr>\n",
              "      <th>3</th>\n",
              "      <td>তোমার মায়ের নাম কি?</td>\n",
              "      <td>প্রশ্নবোধক বাক্য</td>\n",
              "      <td>0</td>\n",
              "      <td>4</td>\n",
              "    </tr>\n",
              "    <tr>\n",
              "      <th>4</th>\n",
              "      <td>তোমরা কয় ভাই-বোন?</td>\n",
              "      <td>প্রশ্নবোধক বাক্য</td>\n",
              "      <td>0</td>\n",
              "      <td>3</td>\n",
              "    </tr>\n",
              "    <tr>\n",
              "      <th>5</th>\n",
              "      <td>তুমি কোন শ্রেণিতে পড়?</td>\n",
              "      <td>প্রশ্নবোধক বাক্য</td>\n",
              "      <td>0</td>\n",
              "      <td>4</td>\n",
              "    </tr>\n",
              "    <tr>\n",
              "      <th>6</th>\n",
              "      <td>কোনটি সবচেয়ে প্রাচীন সভ্যতা?</td>\n",
              "      <td>প্রশ্নবোধক বাক্য</td>\n",
              "      <td>0</td>\n",
              "      <td>4</td>\n",
              "    </tr>\n",
              "    <tr>\n",
              "      <th>7</th>\n",
              "      <td>ইতিহাসের প্রথম লিখিত আইন প্রণেতা কে?</td>\n",
              "      <td>প্রশ্নবোধক বাক্য</td>\n",
              "      <td>0</td>\n",
              "      <td>6</td>\n",
              "    </tr>\n",
              "    <tr>\n",
              "      <th>8</th>\n",
              "      <td>পৃথিবীর কোথায় প্রথম লিখিত আইনের প্রচলন হয়?</td>\n",
              "      <td>প্রশ্নবোধক বাক্য</td>\n",
              "      <td>0</td>\n",
              "      <td>7</td>\n",
              "    </tr>\n",
              "    <tr>\n",
              "      <th>9</th>\n",
              "      <td>সুমেরির সভ্যতা কোথায় গড়ে উঠেছিল?</td>\n",
              "      <td>প্রশ্নবোধক বাক্য</td>\n",
              "      <td>0</td>\n",
              "      <td>5</td>\n",
              "    </tr>\n",
              "    <tr>\n",
              "      <th>10</th>\n",
              "      <td>‘মেসোপটেমিয়া’ এলাকার বেশির ভাগ বর্তমান কোন দেশে?</td>\n",
              "      <td>প্রশ্নবোধক বাক্য</td>\n",
              "      <td>0</td>\n",
              "      <td>7</td>\n",
              "    </tr>\n",
              "    <tr>\n",
              "      <th>11</th>\n",
              "      <td>পৃথিবীর সবচেয়ে বড় ক্রীড়া অনুষ্ঠান কোনটি?</td>\n",
              "      <td>প্রশ্নবোধক বাক্য</td>\n",
              "      <td>0</td>\n",
              "      <td>6</td>\n",
              "    </tr>\n",
              "    <tr>\n",
              "      <th>12</th>\n",
              "      <td>ফুটবলের জন্ম কোন দেশে?</td>\n",
              "      <td>প্রশ্নবোধক বাক্য</td>\n",
              "      <td>0</td>\n",
              "      <td>4</td>\n",
              "    </tr>\n",
              "    <tr>\n",
              "      <th>13</th>\n",
              "      <td>ক্রিকেটের জনক কে?</td>\n",
              "      <td>প্রশ্নবোধক বাক্য</td>\n",
              "      <td>0</td>\n",
              "      <td>3</td>\n",
              "    </tr>\n",
              "    <tr>\n",
              "      <th>14</th>\n",
              "      <td>ফুটবলের রাজপুত্র বলা হয় কাকে?</td>\n",
              "      <td>প্রশ্নবোধক বাক্য</td>\n",
              "      <td>0</td>\n",
              "      <td>5</td>\n",
              "    </tr>\n",
              "    <tr>\n",
              "      <th>15</th>\n",
              "      <td>ক্রিকেট খেলার জন্ম কোথায়?</td>\n",
              "      <td>প্রশ্নবোধক বাক্য</td>\n",
              "      <td>0</td>\n",
              "      <td>4</td>\n",
              "    </tr>\n",
              "    <tr>\n",
              "      <th>16</th>\n",
              "      <td>ক্রিকেটের নিয়মাবলী রচনা ও প্রবর্তন করে কোন ক্লাব?</td>\n",
              "      <td>প্রশ্নবোধক বাক্য</td>\n",
              "      <td>0</td>\n",
              "      <td>8</td>\n",
              "    </tr>\n",
              "    <tr>\n",
              "      <th>17</th>\n",
              "      <td>ক্রিকেট পিচের দৈর্ঘ্য কত?</td>\n",
              "      <td>প্রশ্নবোধক বাক্য</td>\n",
              "      <td>0</td>\n",
              "      <td>4</td>\n",
              "    </tr>\n",
              "    <tr>\n",
              "      <th>18</th>\n",
              "      <td>কোন গোষ্ঠী থেকে বাঙালি জাতির প্রধান অংশ গড়ে উঠ...</td>\n",
              "      <td>প্রশ্নবোধক বাক্য</td>\n",
              "      <td>0</td>\n",
              "      <td>9</td>\n",
              "    </tr>\n",
              "    <tr>\n",
              "      <th>19</th>\n",
              "      <td>বাংলাদেশের প্রাচীন জাতি কোনটি?</td>\n",
              "      <td>প্রশ্নবোধক বাক্য</td>\n",
              "      <td>0</td>\n",
              "      <td>4</td>\n",
              "    </tr>\n",
              "  </tbody>\n",
              "</table>\n",
              "</div>"
            ],
            "text/plain": [
              "                                              Context  ... Length\n",
              "0                                       তোমার নাম কি?  ...      3\n",
              "1                                    তুমি কোথায় থাকো?  ...      3\n",
              "2                                 তোমার বাবার নাম কি?  ...      4\n",
              "3                                 তোমার মায়ের নাম কি?  ...      4\n",
              "4                                   তোমরা কয় ভাই-বোন?  ...      3\n",
              "5                               তুমি কোন শ্রেণিতে পড়?  ...      4\n",
              "6                        কোনটি সবচেয়ে প্রাচীন সভ্যতা?  ...      4\n",
              "7                ইতিহাসের প্রথম লিখিত আইন প্রণেতা কে?  ...      6\n",
              "8          পৃথিবীর কোথায় প্রথম লিখিত আইনের প্রচলন হয়?  ...      7\n",
              "9                    সুমেরির সভ্যতা কোথায় গড়ে উঠেছিল?  ...      5\n",
              "10   ‘মেসোপটেমিয়া’ এলাকার বেশির ভাগ বর্তমান কোন দেশে?  ...      7\n",
              "11           পৃথিবীর সবচেয়ে বড় ক্রীড়া অনুষ্ঠান কোনটি?  ...      6\n",
              "12                             ফুটবলের জন্ম কোন দেশে?  ...      4\n",
              "13                                  ক্রিকেটের জনক কে?  ...      3\n",
              "14                      ফুটবলের রাজপুত্র বলা হয় কাকে?  ...      5\n",
              "15                          ক্রিকেট খেলার জন্ম কোথায়?  ...      4\n",
              "16  ক্রিকেটের নিয়মাবলী রচনা ও প্রবর্তন করে কোন ক্লাব?  ...      8\n",
              "17                          ক্রিকেট পিচের দৈর্ঘ্য কত?  ...      4\n",
              "18  কোন গোষ্ঠী থেকে বাঙালি জাতির প্রধান অংশ গড়ে উঠ...  ...      9\n",
              "19                     বাংলাদেশের প্রাচীন জাতি কোনটি?  ...      4\n",
              "\n",
              "[20 rows x 4 columns]"
            ]
          },
          "metadata": {},
          "execution_count": 12
        }
      ]
    },
    {
      "cell_type": "code",
      "metadata": {
        "colab": {
          "base_uri": "https://localhost:8080/"
        },
        "id": "0UfjkxjY6LTd",
        "outputId": "64d56ee9-e2f5-440a-fa28-7a6d62852762"
      },
      "source": [
        "df.Length.describe()"
      ],
      "execution_count": null,
      "outputs": [
        {
          "output_type": "execute_result",
          "data": {
            "text/plain": [
              "count    9000.000000\n",
              "mean        7.103667\n",
              "std         4.211097\n",
              "min         1.000000\n",
              "25%         4.000000\n",
              "50%         6.000000\n",
              "75%         8.000000\n",
              "max        89.000000\n",
              "Name: Length, dtype: float64"
            ]
          },
          "metadata": {},
          "execution_count": 13
        }
      ]
    },
    {
      "cell_type": "code",
      "metadata": {
        "colab": {
          "base_uri": "https://localhost:8080/",
          "height": 300
        },
        "id": "8wqkakWb6RhU",
        "outputId": "c6d4c65b-8876-4e35-e298-6fc329308abb"
      },
      "source": [
        "df.describe()"
      ],
      "execution_count": null,
      "outputs": [
        {
          "output_type": "execute_result",
          "data": {
            "text/html": [
              "<div>\n",
              "<style scoped>\n",
              "    .dataframe tbody tr th:only-of-type {\n",
              "        vertical-align: middle;\n",
              "    }\n",
              "\n",
              "    .dataframe tbody tr th {\n",
              "        vertical-align: top;\n",
              "    }\n",
              "\n",
              "    .dataframe thead th {\n",
              "        text-align: right;\n",
              "    }\n",
              "</style>\n",
              "<table border=\"1\" class=\"dataframe\">\n",
              "  <thead>\n",
              "    <tr style=\"text-align: right;\">\n",
              "      <th></th>\n",
              "      <th>Class</th>\n",
              "      <th>Length</th>\n",
              "    </tr>\n",
              "  </thead>\n",
              "  <tbody>\n",
              "    <tr>\n",
              "      <th>count</th>\n",
              "      <td>9000.000000</td>\n",
              "      <td>9000.000000</td>\n",
              "    </tr>\n",
              "    <tr>\n",
              "      <th>mean</th>\n",
              "      <td>1.000000</td>\n",
              "      <td>7.103667</td>\n",
              "    </tr>\n",
              "    <tr>\n",
              "      <th>std</th>\n",
              "      <td>0.816542</td>\n",
              "      <td>4.211097</td>\n",
              "    </tr>\n",
              "    <tr>\n",
              "      <th>min</th>\n",
              "      <td>0.000000</td>\n",
              "      <td>1.000000</td>\n",
              "    </tr>\n",
              "    <tr>\n",
              "      <th>25%</th>\n",
              "      <td>0.000000</td>\n",
              "      <td>4.000000</td>\n",
              "    </tr>\n",
              "    <tr>\n",
              "      <th>50%</th>\n",
              "      <td>1.000000</td>\n",
              "      <td>6.000000</td>\n",
              "    </tr>\n",
              "    <tr>\n",
              "      <th>75%</th>\n",
              "      <td>2.000000</td>\n",
              "      <td>8.000000</td>\n",
              "    </tr>\n",
              "    <tr>\n",
              "      <th>max</th>\n",
              "      <td>2.000000</td>\n",
              "      <td>89.000000</td>\n",
              "    </tr>\n",
              "  </tbody>\n",
              "</table>\n",
              "</div>"
            ],
            "text/plain": [
              "             Class       Length\n",
              "count  9000.000000  9000.000000\n",
              "mean      1.000000     7.103667\n",
              "std       0.816542     4.211097\n",
              "min       0.000000     1.000000\n",
              "25%       0.000000     4.000000\n",
              "50%       1.000000     6.000000\n",
              "75%       2.000000     8.000000\n",
              "max       2.000000    89.000000"
            ]
          },
          "metadata": {},
          "execution_count": 14
        }
      ]
    },
    {
      "cell_type": "code",
      "metadata": {
        "colab": {
          "base_uri": "https://localhost:8080/"
        },
        "id": "xAaaSmxO6VXc",
        "outputId": "5883a587-18d0-43f6-c2a0-190e9b9bebef"
      },
      "source": [
        "df.info()"
      ],
      "execution_count": null,
      "outputs": [
        {
          "output_type": "stream",
          "name": "stdout",
          "text": [
            "<class 'pandas.core.frame.DataFrame'>\n",
            "RangeIndex: 9000 entries, 0 to 8999\n",
            "Data columns (total 4 columns):\n",
            " #   Column        Non-Null Count  Dtype \n",
            "---  ------        --------------  ----- \n",
            " 0   Context       9000 non-null   object\n",
            " 1   Context_name  9000 non-null   object\n",
            " 2   Class         9000 non-null   int64 \n",
            " 3   Length        9000 non-null   int64 \n",
            "dtypes: int64(2), object(2)\n",
            "memory usage: 281.4+ KB\n"
          ]
        }
      ]
    },
    {
      "cell_type": "markdown",
      "metadata": {
        "id": "nR5E2ME46ouO"
      },
      "source": [
        "# Punctuation Remove"
      ]
    },
    {
      "cell_type": "code",
      "metadata": {
        "id": "JFME-HTO6fPt"
      },
      "source": [
        "import string \n",
        "def remove_punc(s):\n",
        "    table = str.maketrans({key: None for key in string.punctuation})\n",
        "    return s.translate(table)"
      ],
      "execution_count": null,
      "outputs": []
    },
    {
      "cell_type": "code",
      "metadata": {
        "colab": {
          "base_uri": "https://localhost:8080/"
        },
        "id": "fNMsjJd_60P8",
        "outputId": "7f55757d-e94d-44e1-be6f-f77875910be3"
      },
      "source": [
        "x = df['Context'].fillna(' ')\n",
        "y = df['Class']\n",
        "print(x.head())\n",
        "print(y.head())"
      ],
      "execution_count": null,
      "outputs": [
        {
          "output_type": "stream",
          "name": "stdout",
          "text": [
            "0          তোমার নাম কি?\n",
            "1       তুমি কোথায় থাকো?\n",
            "2    তোমার বাবার নাম কি?\n",
            "3    তোমার মায়ের নাম কি?\n",
            "4      তোমরা কয় ভাই-বোন?\n",
            "Name: Context, dtype: object\n",
            "0    0\n",
            "1    0\n",
            "2    0\n",
            "3    0\n",
            "4    0\n",
            "Name: Class, dtype: int64\n"
          ]
        }
      ]
    },
    {
      "cell_type": "code",
      "metadata": {
        "colab": {
          "base_uri": "https://localhost:8080/",
          "height": 35
        },
        "id": "XOEF6ApGLkpa",
        "outputId": "b8233571-947d-4491-e35d-3ce9b21ea93b"
      },
      "source": [
        "x[1001]"
      ],
      "execution_count": null,
      "outputs": [
        {
          "output_type": "execute_result",
          "data": {
            "application/vnd.google.colaboratory.intrinsic+json": {
              "type": "string"
            },
            "text/plain": [
              "'ট্রেন যথাসময়ে স্টেশনে পৌঁছালো।'"
            ]
          },
          "metadata": {},
          "execution_count": 36
        }
      ]
    },
    {
      "cell_type": "code",
      "metadata": {
        "colab": {
          "base_uri": "https://localhost:8080/"
        },
        "id": "AumNEIPG64M8",
        "outputId": "3384634a-41fd-4ab6-d5e2-880003ba108c"
      },
      "source": [
        "x = df['Context'].apply(remove_punc)\n",
        "x.shape"
      ],
      "execution_count": null,
      "outputs": [
        {
          "output_type": "execute_result",
          "data": {
            "text/plain": [
              "(9000,)"
            ]
          },
          "metadata": {},
          "execution_count": 37
        }
      ]
    },
    {
      "cell_type": "code",
      "metadata": {
        "colab": {
          "base_uri": "https://localhost:8080/",
          "height": 35
        },
        "id": "LtXvMGDJKHVC",
        "outputId": "61d4a0e3-b523-4b1a-930d-bfbfa6eaf490"
      },
      "source": [
        "x[1001]"
      ],
      "execution_count": null,
      "outputs": [
        {
          "output_type": "execute_result",
          "data": {
            "application/vnd.google.colaboratory.intrinsic+json": {
              "type": "string"
            },
            "text/plain": [
              "'ট্রেন যথাসময়ে স্টেশনে পৌঁছালো।'"
            ]
          },
          "metadata": {},
          "execution_count": 38
        }
      ]
    },
    {
      "cell_type": "markdown",
      "metadata": {
        "id": "LlK1wrEm7L4M"
      },
      "source": [
        "# Contractions"
      ]
    },
    {
      "cell_type": "code",
      "metadata": {
        "id": "06mcPRpd7DVd"
      },
      "source": [
        "contractions = { \n",
        "\"বি.দ্র \": \"বিশেষ দ্রষ্টব্য\",\n",
        "\"ড.\": \"ডক্টর\",\n",
        "\"ডা.\": \"ডাক্তার\",\n",
        "\"ইঞ্জি:\": \"ইঞ্জিনিয়ার\",\n",
        "\"রেজি:\": \"রেজিস্ট্রেশন\",\n",
        "\"মি.\": \"মিস্টার\",\n",
        "\"মু.\": \"মুহাম্মদ\",\n",
        "\"মো.\": \"মোহাম্মদ\",\n",
        "}"
      ],
      "execution_count": null,
      "outputs": []
    },
    {
      "cell_type": "markdown",
      "metadata": {
        "id": "xufKF8eR76O1"
      },
      "source": [
        "# Main part"
      ]
    },
    {
      "cell_type": "code",
      "metadata": {
        "id": "AkW93M3D7I7V"
      },
      "source": [
        "import re\n",
        "import string\n",
        "from collections import Counter\n",
        "vocab = Counter()\n",
        "def clean_text(x,remove_stopwords = False):\n",
        "    if True:\n",
        "        new_text = []\n",
        "        for word in x:\n",
        "            if word in contractions:\n",
        "                new_text.append(contractions[word])\n",
        "            else:\n",
        "                new_text.append(word)\n",
        "        x = \"\".join(new_text)\n",
        "    # Format words and remove unwanted characters\n",
        "    whitespace = re.compile(u\"[\\s\\u0020\\u00a0\\u1680\\u180e\\u202f\\u205f\\u3000\\u2000-\\u200a]+\", re.UNICODE)\n",
        "    bangla_digits = u\"[\\u09E6\\u09E7\\u09E8\\u09E9\\u09EA\\u09EB\\u09EC\\u09ED\\u09EE\\u09EF]+\"\n",
        "    english_chars = u\"[a-zA-Z0-9]\"\n",
        "    punc = u\"[(),$%^&*+={}\\[\\]:\\\"|\\'\\~`<>/,¦!?½£¶¼©⅐⅑⅒⅓⅔⅕⅖⅗⅘⅙⅚⅛⅜⅝⅞⅟↉¤¿º;-]+\"\n",
        "    bangla_fullstop = u\"\\u0964\"     #bangla fullstop(dari)\n",
        "    punctSeq   = u\"['\\\"“”‘’]+|[.?!,…]+|[:;]+\"\n",
        "    \n",
        "    x = re.sub(bangla_digits, \" \", x)\n",
        "    x = re.sub(punc, \" \", x)\n",
        "    x = re.sub(english_chars, \" \", x)\n",
        "    x = re.sub(bangla_fullstop, \" \", x)\n",
        "    x = re.sub(punctSeq, \" \", x)\n",
        "    x = whitespace.sub(\" \", x).strip()\n",
        "    \n",
        "    x = re.sub(r'https?:\\/\\/.*[\\r\\n]*', '', x, flags=re.MULTILINE)\n",
        "    x = re.sub(r'\\<a href', ' ', x)\n",
        "    x = re.sub(r'&amp;‘:‘ ’', '', x) \n",
        "    x = re.sub(r'[_\"\\-;%()|+&=*%.,!?:#$@\\[\\]/]। ,', ' ', x)\n",
        "    x = re.sub(r'<br />', ' ', x)\n",
        "    x = re.sub(r'\\'', ' ', x)\n",
        "    x = re.sub(r\"[\\@$#%~+-\\.\\'।\\\"]\",\" \",x)\n",
        "    x = re.sub(r\"(?m)^\\s+\", \"\", x)\n",
        "    x = re.sub(\"[()]\",\"\",x)\n",
        "    x = re.sub(\"[‘’]\",\"\",x)\n",
        "    x = re.sub(\"[!]\",\"\",x)\n",
        "    x = re.sub(\"[/]\",\"\",x)\n",
        "    x = re.sub(\"[:]\",\"\",x)\n",
        "    x = re.sub('\\ |\\?|\\.|\\!|\\/|\\;|\\:', ' ',x)\n",
        "    x = x.strip(\"/\")\n",
        "    \n",
        "    if remove_stopwords:\n",
        "        k = []\n",
        "        with open('/content/Banglastopword.txt', 'r',encoding=\"utf-8\") as f:\n",
        "            for word in f:\n",
        "                word = word.split()\n",
        "                k.append(word[0])\n",
        "            x = [t for t in x if t not in k]\n",
        "            x = \"\".join(x)\n",
        "   \n",
        "\n",
        "    return x"
      ],
      "execution_count": null,
      "outputs": []
    },
    {
      "cell_type": "code",
      "metadata": {
        "id": "bIUwyG4N8AtW"
      },
      "source": [
        "import matplotlib.pyplot as plt\n",
        "import seaborn as sns\n",
        "import nltk\n",
        "from nltk.corpus import stopwords\n",
        "import string\n",
        "import math\n",
        "from sklearn.feature_extraction.text import CountVectorizer\n",
        "from sklearn.model_selection import train_test_split, cross_val_score\n",
        "from sklearn.metrics import classification_report\n",
        "from sklearn.metrics import confusion_matrix, accuracy_score, roc_auc_score, roc_curve\n",
        "from sklearn.model_selection import GridSearchCV\n",
        "from sklearn import metrics\n",
        "%matplotlib inline"
      ],
      "execution_count": null,
      "outputs": []
    },
    {
      "cell_type": "code",
      "metadata": {
        "id": "9gtGJ_fwQSoH"
      },
      "source": [
        "vocab = CountVectorizer(analyzer=clean_text,encoding='utf-8').fit(x)"
      ],
      "execution_count": null,
      "outputs": []
    },
    {
      "cell_type": "code",
      "metadata": {
        "colab": {
          "base_uri": "https://localhost:8080/"
        },
        "id": "XB-VMlPoQXno",
        "outputId": "59f46c32-631c-4b4b-a52f-338649e35569"
      },
      "source": [
        "print(len(vocab.vocabulary_))"
      ],
      "execution_count": null,
      "outputs": [
        {
          "output_type": "stream",
          "text": [
            "72\n"
          ],
          "name": "stdout"
        }
      ]
    },
    {
      "cell_type": "code",
      "metadata": {
        "colab": {
          "base_uri": "https://localhost:8080/"
        },
        "id": "LRai3gEuQa_Y",
        "outputId": "20e9af7d-3ec0-4c5d-fa84-1cc21a928cec"
      },
      "source": [
        "r0 = x[30]\n",
        "print(r0)"
      ],
      "execution_count": null,
      "outputs": [
        {
          "output_type": "stream",
          "text": [
            "কম্পিউটার একটি কি\n"
          ],
          "name": "stdout"
        }
      ]
    },
    {
      "cell_type": "code",
      "metadata": {
        "colab": {
          "base_uri": "https://localhost:8080/"
        },
        "id": "tQRKpMAPQeZX",
        "outputId": "64337606-37c2-452b-f9dd-0914baa0691c"
      },
      "source": [
        "vocab0 = vocab.transform([r0])\n",
        "print(vocab0)"
      ],
      "execution_count": null,
      "outputs": [
        {
          "output_type": "stream",
          "text": [
            "  (0, 0)\t2\n",
            "  (0, 10)\t1\n",
            "  (0, 13)\t1\n",
            "  (0, 17)\t3\n",
            "  (0, 27)\t2\n",
            "  (0, 37)\t1\n",
            "  (0, 41)\t1\n",
            "  (0, 43)\t1\n",
            "  (0, 50)\t1\n",
            "  (0, 51)\t3\n",
            "  (0, 60)\t1\n"
          ],
          "name": "stdout"
        }
      ]
    },
    {
      "cell_type": "code",
      "metadata": {
        "colab": {
          "base_uri": "https://localhost:8080/"
        },
        "id": "v7inoPzuQo6P",
        "outputId": "1b4af407-55ba-4721-b13a-9dd6cfe367e2"
      },
      "source": [
        "print(vocab.get_feature_names()[50])\n",
        "print(vocab.get_feature_names()[50])"
      ],
      "execution_count": null,
      "outputs": [
        {
          "output_type": "stream",
          "text": [
            "া\n",
            "া\n"
          ],
          "name": "stdout"
        }
      ]
    },
    {
      "cell_type": "code",
      "metadata": {
        "id": "8Hsfq7sWQ2qX"
      },
      "source": [
        "x = vocab.transform(x)"
      ],
      "execution_count": null,
      "outputs": []
    },
    {
      "cell_type": "code",
      "metadata": {
        "colab": {
          "base_uri": "https://localhost:8080/"
        },
        "id": "cvjMoBWeQ6CH",
        "outputId": "36cdc4c2-c800-4323-e686-f6d175262842"
      },
      "source": [
        "print(\"Shape of the sparse matrix: \", x.shape)\n",
        "print(\"Non-Zero occurences: \",x.nnz)\n",
        "density = (x.nnz/(x.shape[0]*x.shape[1]))*100\n",
        "print(\"Density of the matrix = \",density)"
      ],
      "execution_count": null,
      "outputs": [
        {
          "output_type": "stream",
          "text": [
            "Shape of the sparse matrix:  (7500, 72)\n",
            "Non-Zero occurences:  142677\n",
            "Density of the matrix =  26.421666666666667\n"
          ],
          "name": "stdout"
        }
      ]
    },
    {
      "cell_type": "code",
      "metadata": {
        "id": "ikJMD5yxQ84G"
      },
      "source": [
        "x_train,x_test,y_train,y_test = train_test_split(x,y,test_size=0.15)"
      ],
      "execution_count": null,
      "outputs": []
    },
    {
      "cell_type": "code",
      "metadata": {
        "colab": {
          "base_uri": "https://localhost:8080/"
        },
        "id": "wpeyHC4ORAef",
        "outputId": "cf5cf9b7-f27d-4c32-faf5-656a3bb476fd"
      },
      "source": [
        "x_train"
      ],
      "execution_count": null,
      "outputs": [
        {
          "output_type": "execute_result",
          "data": {
            "text/plain": [
              "<6375x72 sparse matrix of type '<class 'numpy.int64'>'\n",
              "\twith 121254 stored elements in Compressed Sparse Row format>"
            ]
          },
          "metadata": {
            "tags": []
          },
          "execution_count": 156
        }
      ]
    },
    {
      "cell_type": "code",
      "metadata": {
        "colab": {
          "base_uri": "https://localhost:8080/"
        },
        "id": "tiq2LQZrRTm-",
        "outputId": "3e7d0863-0b24-4444-8bd7-d3341dc42739"
      },
      "source": [
        "y_train"
      ],
      "execution_count": null,
      "outputs": [
        {
          "output_type": "execute_result",
          "data": {
            "text/plain": [
              "6893    0\n",
              "3164    2\n",
              "2987    2\n",
              "1991    0\n",
              "6459    1\n",
              "       ..\n",
              "1050    0\n",
              "6532    0\n",
              "4181    0\n",
              "2477    1\n",
              "5299    2\n",
              "Name: Class, Length: 6375, dtype: int64"
            ]
          },
          "metadata": {
            "tags": []
          },
          "execution_count": 157
        }
      ]
    },
    {
      "cell_type": "code",
      "metadata": {
        "colab": {
          "base_uri": "https://localhost:8080/"
        },
        "id": "WfCDoUpRRpWm",
        "outputId": "5a31c474-71a5-4b48-8f5b-25d3ed8e39ec"
      },
      "source": [
        "y_test"
      ],
      "execution_count": null,
      "outputs": [
        {
          "output_type": "execute_result",
          "data": {
            "text/plain": [
              "3555    1\n",
              "1092    0\n",
              "6218    1\n",
              "2545    2\n",
              "887     2\n",
              "       ..\n",
              "5611    1\n",
              "4482    0\n",
              "5619    1\n",
              "3650    1\n",
              "2882    2\n",
              "Name: Class, Length: 1125, dtype: int64"
            ]
          },
          "metadata": {
            "tags": []
          },
          "execution_count": 158
        }
      ]
    },
    {
      "cell_type": "markdown",
      "metadata": {
        "id": "YuaxzJtTU1Bg"
      },
      "source": [
        "# Naive Bayes"
      ]
    },
    {
      "cell_type": "code",
      "metadata": {
        "colab": {
          "base_uri": "https://localhost:8080/"
        },
        "id": "AkEIG5RFStzw",
        "outputId": "2d5818f5-8e8a-45cf-936b-2ceef0be3a79"
      },
      "source": [
        "from sklearn.naive_bayes import MultinomialNB\n",
        "mnb = MultinomialNB()\n",
        "mnb.fit(x_train,y_train)\n",
        "predmnb = mnb.predict(x_test)\n",
        "print(\"Confusion Matrix for Multinomial Naive Bayes:\")\n",
        "print(confusion_matrix(y_test,predmnb))\n",
        "print(\"Score:\",round(accuracy_score(y_test,predmnb)*100,2))\n",
        "print(\"Classification Report:\",classification_report(y_test,predmnb))\n"
      ],
      "execution_count": null,
      "outputs": [
        {
          "output_type": "stream",
          "text": [
            "Confusion Matrix for Multinomial Naive Bayes:\n",
            "[[247  56  55]\n",
            " [ 54 281  70]\n",
            " [ 67 120 175]]\n",
            "Score: 62.49\n",
            "Classification Report:               precision    recall  f1-score   support\n",
            "\n",
            "           0       0.67      0.69      0.68       358\n",
            "           1       0.61      0.69      0.65       405\n",
            "           2       0.58      0.48      0.53       362\n",
            "\n",
            "    accuracy                           0.62      1125\n",
            "   macro avg       0.62      0.62      0.62      1125\n",
            "weighted avg       0.62      0.62      0.62      1125\n",
            "\n"
          ],
          "name": "stdout"
        }
      ]
    },
    {
      "cell_type": "code",
      "metadata": {
        "colab": {
          "base_uri": "https://localhost:8080/"
        },
        "id": "MAj83f2BW92d",
        "outputId": "690919cb-66aa-4a33-8921-a52f57f1b891"
      },
      "source": [
        "acc1=metrics.accuracy_score(y_test, predmnb)\n",
        "print(\"Accuracy:\",acc1*100,\"%\")\n",
        "cross_val_score(mnb, x, y, cv=10)\n",
        "naive_cross_val=cross_val_score(mnb, x, y, cv=10).mean()\n",
        "naive_cross_val"
      ],
      "execution_count": null,
      "outputs": [
        {
          "output_type": "stream",
          "text": [
            "Accuracy: 62.488888888888894 %\n"
          ],
          "name": "stdout"
        },
        {
          "output_type": "execute_result",
          "data": {
            "text/plain": [
              "0.5894666666666666"
            ]
          },
          "metadata": {
            "tags": []
          },
          "execution_count": 160
        }
      ]
    },
    {
      "cell_type": "markdown",
      "metadata": {
        "id": "p7Rj1t9ZXEaN"
      },
      "source": [
        "# Random Forest"
      ]
    },
    {
      "cell_type": "code",
      "metadata": {
        "colab": {
          "base_uri": "https://localhost:8080/"
        },
        "id": "F2Uh9jJZVA69",
        "outputId": "3455ab65-0141-44f3-d17d-5b7dbe15e80c"
      },
      "source": [
        "from sklearn.ensemble import RandomForestClassifier\n",
        "rmfr = RandomForestClassifier()\n",
        "rmfr.fit(x_train,y_train)\n",
        "predrmfr = rmfr.predict(x_test)\n",
        "print(\"Confusion Matrix for Random Forest Classifier:\")\n",
        "print(confusion_matrix(y_test,predrmfr))\n",
        "print(\"Score:\",round(accuracy_score(y_test,predrmfr)*100,2))\n",
        "print(\"Classification Report:\",classification_report(y_test,predrmfr))"
      ],
      "execution_count": null,
      "outputs": [
        {
          "output_type": "stream",
          "text": [
            "Confusion Matrix for Random Forest Classifier:\n",
            "[[283  43  32]\n",
            " [ 28 332  45]\n",
            " [ 45  84 233]]\n",
            "Score: 75.38\n",
            "Classification Report:               precision    recall  f1-score   support\n",
            "\n",
            "           0       0.79      0.79      0.79       358\n",
            "           1       0.72      0.82      0.77       405\n",
            "           2       0.75      0.64      0.69       362\n",
            "\n",
            "    accuracy                           0.75      1125\n",
            "   macro avg       0.76      0.75      0.75      1125\n",
            "weighted avg       0.76      0.75      0.75      1125\n",
            "\n"
          ],
          "name": "stdout"
        }
      ]
    },
    {
      "cell_type": "code",
      "metadata": {
        "colab": {
          "base_uri": "https://localhost:8080/"
        },
        "id": "PQRjyfVyVICu",
        "outputId": "48be140b-b14a-40fa-e89f-05c4eb984e38"
      },
      "source": [
        "acc2=metrics.accuracy_score(y_test,predrmfr)\n",
        "print(\"Accuracy:\",acc2*100,\"%\")\n",
        "cross_val_score(rmfr, x, y, cv=10)\n",
        "rmfr_cross_val=cross_val_score(rmfr, x, y, cv=10).mean()\n",
        "rmfr_cross_val"
      ],
      "execution_count": null,
      "outputs": [
        {
          "output_type": "stream",
          "text": [
            "Accuracy: 75.37777777777778 %\n"
          ],
          "name": "stdout"
        },
        {
          "output_type": "execute_result",
          "data": {
            "text/plain": [
              "0.7392"
            ]
          },
          "metadata": {
            "tags": []
          },
          "execution_count": 162
        }
      ]
    },
    {
      "cell_type": "markdown",
      "metadata": {
        "id": "hwbIGDjzXSJV"
      },
      "source": [
        "# Decision Tree Classifier"
      ]
    },
    {
      "cell_type": "code",
      "metadata": {
        "colab": {
          "base_uri": "https://localhost:8080/"
        },
        "id": "qP7-NfYlXPiF",
        "outputId": "01319503-50ac-4404-b8fb-d090fb7f0d10"
      },
      "source": [
        "from sklearn.tree import DecisionTreeClassifier\n",
        "dt = DecisionTreeClassifier()\n",
        "dt.fit(x_train,y_train)\n",
        "preddt = dt.predict(x_test)\n",
        "print(\"Confusion Matrix for Decision Tree:\")\n",
        "print(confusion_matrix(y_test,preddt))\n",
        "print(\"Score:\",round(accuracy_score(y_test,preddt)*100,2))\n",
        "print(\"Classification Report:\",classification_report(y_test,preddt))"
      ],
      "execution_count": null,
      "outputs": [
        {
          "output_type": "stream",
          "text": [
            "Confusion Matrix for Decision Tree:\n",
            "[[331  81  76]\n",
            " [ 87 342 109]\n",
            " [ 91 108 275]]\n",
            "Score: 63.2\n",
            "Classification Report:               precision    recall  f1-score   support\n",
            "\n",
            "           0       0.65      0.68      0.66       488\n",
            "           1       0.64      0.64      0.64       538\n",
            "           2       0.60      0.58      0.59       474\n",
            "\n",
            "    accuracy                           0.63      1500\n",
            "   macro avg       0.63      0.63      0.63      1500\n",
            "weighted avg       0.63      0.63      0.63      1500\n",
            "\n"
          ],
          "name": "stdout"
        }
      ]
    },
    {
      "cell_type": "code",
      "metadata": {
        "colab": {
          "base_uri": "https://localhost:8080/"
        },
        "id": "ibVSXBvPXgrV",
        "outputId": "87251dbd-e1a3-45dc-da6e-9b7c115e0b47"
      },
      "source": [
        "\n",
        "acc3=metrics.accuracy_score(y_test,preddt)\n",
        "print(\"Accuracy:\",acc3*100,\"%\")\n",
        "cross_val_score(dt, x, y, cv=10)\n",
        "dt_cross_val=cross_val_score(dt, x, y, cv=10).mean()\n",
        "dt_cross_val\n"
      ],
      "execution_count": null,
      "outputs": [
        {
          "output_type": "stream",
          "text": [
            "Accuracy: 63.2 %\n"
          ],
          "name": "stdout"
        },
        {
          "output_type": "execute_result",
          "data": {
            "text/plain": [
              "0.6325333333333335"
            ]
          },
          "metadata": {
            "tags": []
          },
          "execution_count": 118
        }
      ]
    },
    {
      "cell_type": "markdown",
      "metadata": {
        "id": "W4qT_Lz_XlE2"
      },
      "source": [
        "# SVC"
      ]
    },
    {
      "cell_type": "code",
      "metadata": {
        "colab": {
          "base_uri": "https://localhost:8080/"
        },
        "id": "T1JwDL9hXjx9",
        "outputId": "b5360d8c-babe-4447-e223-3dbe35bcb2e0"
      },
      "source": [
        "\n",
        "from sklearn.svm import SVC\n",
        "svm = SVC(random_state=101)\n",
        "svm.fit(x_train,y_train)\n",
        "predsvm = svm.predict(x_test)\n",
        "print(\"Confusion Matrix for Support Vector Machines:\")\n",
        "print(confusion_matrix(y_test,predsvm))\n",
        "print(\"Score:\",round(accuracy_score(y_test,predsvm)*100,2))\n",
        "print(\"Classification Report:\",classification_report(y_test,predsvm))"
      ],
      "execution_count": null,
      "outputs": [
        {
          "output_type": "stream",
          "text": [
            "Confusion Matrix for Support Vector Machines:\n",
            "[[359  82  47]\n",
            " [ 63 424  51]\n",
            " [ 64  93 317]]\n",
            "Score: 73.33\n",
            "Classification Report:               precision    recall  f1-score   support\n",
            "\n",
            "           0       0.74      0.74      0.74       488\n",
            "           1       0.71      0.79      0.75       538\n",
            "           2       0.76      0.67      0.71       474\n",
            "\n",
            "    accuracy                           0.73      1500\n",
            "   macro avg       0.74      0.73      0.73      1500\n",
            "weighted avg       0.74      0.73      0.73      1500\n",
            "\n"
          ],
          "name": "stdout"
        }
      ]
    },
    {
      "cell_type": "code",
      "metadata": {
        "colab": {
          "base_uri": "https://localhost:8080/"
        },
        "id": "XCaKgVxqXtQN",
        "outputId": "82cbe2be-262d-40ee-f686-2b78ff16552a"
      },
      "source": [
        "import pickle\n",
        "acc4=metrics.accuracy_score(y_test,predsvm)\n",
        "print(\"Accuracy:\",acc4*100,\"%\")\n",
        "cross_val_score(svm, x, y, cv=10)\n",
        "naive_cross_val=cross_val_score(svm, x, y, cv=10).mean()\n",
        "naive_cross_val"
      ],
      "execution_count": null,
      "outputs": [
        {
          "output_type": "stream",
          "text": [
            "Accuracy: 72.86666666666667 %\n"
          ],
          "name": "stdout"
        },
        {
          "output_type": "execute_result",
          "data": {
            "text/plain": [
              "0.7177333333333333"
            ]
          },
          "metadata": {
            "tags": []
          },
          "execution_count": 46
        }
      ]
    },
    {
      "cell_type": "markdown",
      "metadata": {
        "id": "NO0jRt6cX5Iw"
      },
      "source": [
        "# KNN"
      ]
    },
    {
      "cell_type": "code",
      "metadata": {
        "colab": {
          "base_uri": "https://localhost:8080/"
        },
        "id": "HVMhUJ5NXyAd",
        "outputId": "224e92c9-fac9-4ae1-ba77-ea243dc6276f"
      },
      "source": [
        "from sklearn.neighbors import KNeighborsClassifier\n",
        "knn = KNeighborsClassifier(n_neighbors=3)\n",
        "knn.fit(x_train,y_train)\n",
        "predknn = knn.predict(x_test)\n",
        "print(\"Confusion Matrix for K Neighbors Classifier:\")\n",
        "print(confusion_matrix(y_test,predknn))\n",
        "print(\"Score: \",round(accuracy_score(y_test,predknn)*100,2))\n",
        "print(\"Classification Report:\")\n",
        "print(classification_report(y_test,predknn))"
      ],
      "execution_count": null,
      "outputs": [
        {
          "output_type": "stream",
          "text": [
            "Confusion Matrix for K Neighbors Classifier:\n",
            "[[383  70  30]\n",
            " [112 352  55]\n",
            " [159  89 250]]\n",
            "Score:  65.67\n",
            "Classification Report:\n",
            "              precision    recall  f1-score   support\n",
            "\n",
            "           0       0.59      0.79      0.67       483\n",
            "           1       0.69      0.68      0.68       519\n",
            "           2       0.75      0.50      0.60       498\n",
            "\n",
            "    accuracy                           0.66      1500\n",
            "   macro avg       0.67      0.66      0.65      1500\n",
            "weighted avg       0.67      0.66      0.65      1500\n",
            "\n"
          ],
          "name": "stdout"
        }
      ]
    },
    {
      "cell_type": "code",
      "metadata": {
        "colab": {
          "base_uri": "https://localhost:8080/"
        },
        "id": "kQ2wvgHXYBHt",
        "outputId": "f4d6bdce-6eeb-4ba9-bf91-8f0943aaa8e6"
      },
      "source": [
        "acc5=metrics.accuracy_score(y_test,predknn)\n",
        "print(\"Accuracy:\",acc5*100,\"%\")\n",
        "cross_val_score(knn, x, y, cv=10)\n",
        "knn_cross_val=cross_val_score(knn, x, y, cv=10).mean()\n",
        "knn_cross_val"
      ],
      "execution_count": null,
      "outputs": [
        {
          "output_type": "stream",
          "text": [
            "Accuracy: 65.66666666666666 %\n"
          ],
          "name": "stdout"
        },
        {
          "output_type": "execute_result",
          "data": {
            "text/plain": [
              "0.632"
            ]
          },
          "metadata": {
            "tags": []
          },
          "execution_count": 48
        }
      ]
    },
    {
      "cell_type": "markdown",
      "metadata": {
        "id": "gbKQEYRZYIrV"
      },
      "source": [
        "# XGBClassifier"
      ]
    },
    {
      "cell_type": "code",
      "metadata": {
        "colab": {
          "base_uri": "https://localhost:8080/"
        },
        "id": "Ryj2TrX5YF_N",
        "outputId": "7ad3d450-c26d-4f9c-9de1-66835bf6694c"
      },
      "source": [
        "from xgboost import XGBClassifier\n",
        "xgb = XGBClassifier()\n",
        "xgb.fit(x_train,y_train)\n",
        "predxgb = xgb.predict(x_test)\n",
        "print(\"Confusion Matrix for xgboost Classifier:\")\n",
        "print(confusion_matrix(y_test,predxgb))\n",
        "print(\"Score: \",round(accuracy_score(y_test,predxgb)*100,2))\n",
        "print(\"Classification Report:\")\n",
        "print(classification_report(y_test,predxgb))"
      ],
      "execution_count": null,
      "outputs": [
        {
          "output_type": "stream",
          "text": [
            "Confusion Matrix for xgboost Classifier:\n",
            "[[370  70  43]\n",
            " [ 52 398  69]\n",
            " [ 79  92 327]]\n",
            "Score:  73.0\n",
            "Classification Report:\n",
            "              precision    recall  f1-score   support\n",
            "\n",
            "           0       0.74      0.77      0.75       483\n",
            "           1       0.71      0.77      0.74       519\n",
            "           2       0.74      0.66      0.70       498\n",
            "\n",
            "    accuracy                           0.73      1500\n",
            "   macro avg       0.73      0.73      0.73      1500\n",
            "weighted avg       0.73      0.73      0.73      1500\n",
            "\n"
          ],
          "name": "stdout"
        }
      ]
    },
    {
      "cell_type": "code",
      "metadata": {
        "colab": {
          "base_uri": "https://localhost:8080/"
        },
        "id": "WtAiKuucYWeE",
        "outputId": "a07864e0-a399-4534-99fc-91b5875367c6"
      },
      "source": [
        "acc6=metrics.accuracy_score(y_test,predxgb)\n",
        "print(\"Accuracy:\",acc6*100,\"%\")\n",
        "cross_val_score(xgb, x, y, cv=10)\n",
        "xgb_cross_val=cross_val_score(xgb, x, y, cv=10).mean()\n",
        "xgb_cross_val"
      ],
      "execution_count": null,
      "outputs": [
        {
          "output_type": "stream",
          "text": [
            "Accuracy: 73.0 %\n"
          ],
          "name": "stdout"
        },
        {
          "output_type": "execute_result",
          "data": {
            "text/plain": [
              "0.7085333333333333"
            ]
          },
          "metadata": {
            "tags": []
          },
          "execution_count": 50
        }
      ]
    },
    {
      "cell_type": "markdown",
      "metadata": {
        "id": "tq5ZAminYdJG"
      },
      "source": [
        "# Graph"
      ]
    },
    {
      "cell_type": "code",
      "metadata": {
        "colab": {
          "base_uri": "https://localhost:8080/",
          "height": 452
        },
        "id": "0mZbW-z0YZXE",
        "outputId": "8071167c-0ce2-4fc9-e364-f9b5f209b8fd"
      },
      "source": [
        "import matplotlib.pyplot as plt; plt.rcdefaults()\n",
        "import numpy as np\n",
        "import matplotlib.pyplot as plt\n",
        "\n",
        "objects = ('NB','RF','DT','SVM','KNN','XGB')\n",
        "y_pos = np.arange(len(objects))\n",
        "performance = [acc1,acc2,acc3,acc4,acc5,acc6]\n",
        "\n",
        "plt.bar(y_pos, performance, align='center', alpha=0.5)\n",
        "plt.xticks(y_pos, objects)\n",
        "plt.ylabel('Score')\n",
        "plt.title('Best Accuracy')\n",
        "\n",
        "plt.show()"
      ],
      "execution_count": null,
      "outputs": [
        {
          "output_type": "display_data",
          "data": {
            "image/png": "[encoded data removed]",
            "text/plain": [
              "<Figure size 640x480 with 1 Axes>"
            ]
          },
          "metadata": {
            "tags": []
          }
        }
      ]
    },
    {
      "cell_type": "code",
      "metadata": {
        "id": "DXXEFUMUYoq1",
        "colab": {
          "base_uri": "https://localhost:8080/"
        },
        "outputId": "6a7387d7-0074-496a-f4e2-50d00422563d"
      },
      "source": [
        "headline=input()\n",
        "prt=vocab.transform([headline])"
      ],
      "execution_count": null,
      "outputs": [
        {
          "output_type": "stream",
          "text": [
            "1\n"
          ],
          "name": "stdout"
        }
      ]
    },
    {
      "cell_type": "code",
      "metadata": {
        "colab": {
          "base_uri": "https://localhost:8080/"
        },
        "id": "1pxGJTfHYxMl",
        "outputId": "a1ff5f5d-a17d-40bc-cf4b-deb65d8b5d0d"
      },
      "source": [
        "m1=svm.predict(prt)\n",
        "print(\"Predicted Rating:\",m1)\n",
        "if m1==0:\n",
        "  print(\"Interogartive\")\n",
        "elif m1==1:\n",
        "  print(\"Exclamatory\")\n",
        "else:\n",
        "  print(\"Assertive\")"
      ],
      "execution_count": null,
      "outputs": [
        {
          "output_type": "stream",
          "text": [
            "Predicted Rating: [1]\n",
            "Exclamatory\n"
          ],
          "name": "stdout"
        }
      ]
    },
    {
      "cell_type": "code",
      "metadata": {
        "colab": {
          "base_uri": "https://localhost:8080/"
        },
        "id": "zlHUqsh3Y-Yc",
        "outputId": "753f7ddb-a832-472c-fcb6-82b730e7f818"
      },
      "source": [
        "m2=knn.predict(prt)\n",
        "print(\"Predicted Rating:\",m2)\n",
        "if m2==0:\n",
        "  print(\"Interogartive\")\n",
        "elif m2==1:\n",
        "  print(\"Exclamatory\")\n",
        "else:\n",
        "  print(\"Assertive\")"
      ],
      "execution_count": null,
      "outputs": [
        {
          "output_type": "stream",
          "text": [
            "Predicted Rating: [2]\n",
            "Negative\n"
          ],
          "name": "stdout"
        }
      ]
    },
    {
      "cell_type": "code",
      "metadata": {
        "colab": {
          "base_uri": "https://localhost:8080/"
        },
        "id": "B8bRdFdYZEtU",
        "outputId": "14d101c1-6a0a-493a-f2ae-d33d0b28090c"
      },
      "source": [
        "m3=dt.predict(prt)\n",
        "print(\"Predicted Rating:\",m3)\n",
        "if m3==0:\n",
        "  print(\"Interogartive\")\n",
        "elif m3==1:\n",
        "  print(\"Exclamatory\")\n",
        "else:\n",
        "  print(\"Assertive\")"
      ],
      "execution_count": null,
      "outputs": [
        {
          "output_type": "stream",
          "text": [
            "Predicted Rating: [3]\n",
            "Assertive\n"
          ],
          "name": "stdout"
        }
      ]
    },
    {
      "cell_type": "code",
      "metadata": {
        "colab": {
          "base_uri": "https://localhost:8080/"
        },
        "id": "VpDKqE7YZHJM",
        "outputId": "5510d178-4294-48d3-b4a5-dc098a9430f3"
      },
      "source": [
        "m4=mnb.predict(prt)\n",
        "print(\"Predicted Rating:\",m4)\n",
        "if m4==0:\n",
        "  print(\"Interogartive\")\n",
        "elif m4==1:\n",
        "  print(\"Exclamatory\")\n",
        "else:\n",
        "  print(\"Assertive\")"
      ],
      "execution_count": null,
      "outputs": [
        {
          "output_type": "stream",
          "text": [
            "Predicted Rating: [1]\n",
            "Exclamatory\n"
          ],
          "name": "stdout"
        }
      ]
    },
    {
      "cell_type": "code",
      "metadata": {
        "colab": {
          "base_uri": "https://localhost:8080/"
        },
        "id": "Q18XMPeKZJ2V",
        "outputId": "f4bf5207-b264-4d56-d104-a35c87ca4129"
      },
      "source": [
        "m5=rmfr.predict(prt)\n",
        "print(\"Predicted Rating:\",m5)\n",
        "if m5==0:\n",
        "  print(\"Interogartive\")\n",
        "elif m5==1:\n",
        "  print(\"Exclamatory\")\n",
        "else:\n",
        "  print(\"Assertive\")"
      ],
      "execution_count": null,
      "outputs": [
        {
          "output_type": "stream",
          "text": [
            "Predicted Rating: [3]\n",
            "Assertive\n"
          ],
          "name": "stdout"
        }
      ]
    },
    {
      "cell_type": "code",
      "metadata": {
        "colab": {
          "base_uri": "https://localhost:8080/"
        },
        "id": "G9LQaKH5ZLik",
        "outputId": "069810d2-d8a5-4eea-842c-b4bd77680499"
      },
      "source": [
        "m6=xgb.predict(prt)\n",
        "print(\"Predicted Rating:\",m6)\n",
        "if m6==0:\n",
        "  print(\"Interogartive\")\n",
        "elif m6==1:\n",
        "  print(\"Exclamatory\")\n",
        "else:\n",
        "  print(\"Assertive\")"
      ],
      "execution_count": null,
      "outputs": [
        {
          "output_type": "stream",
          "text": [
            "Predicted Rating: [1]\n",
            "Exclamatory\n"
          ],
          "name": "stdout"
        }
      ]
    },
    {
      "cell_type": "code",
      "metadata": {
        "id": "ZrV-3-Ojo7rF"
      },
      "source": [
        ""
      ],
      "execution_count": null,
      "outputs": []
    }
  ]
}